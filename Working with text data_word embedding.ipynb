{
 "cells": [
  {
   "cell_type": "markdown",
   "id": "02e326c0-28d4-499c-a8df-d735d5b5c4fb",
   "metadata": {},
   "source": [
    "# Word_Embedding"
   ]
  },
  {
   "cell_type": "markdown",
   "id": "2c7dc0d8-e32b-4c0e-b517-cc6a56d8bafa",
   "metadata": {},
   "source": [
    "### laoding the for use of embedding layer"
   ]
  },
  {
   "cell_type": "code",
   "execution_count": 135,
   "id": "5b9be5f4-1fd3-4327-85b3-9a066ae3dd14",
   "metadata": {},
   "outputs": [],
   "source": [
    "from tensorflow.keras.layers import Embedding\n",
    "from tensorflow.keras import preprocessing \n",
    "from tensorflow.keras.datasets import imdb"
   ]
  },
  {
   "cell_type": "code",
   "execution_count": 5,
   "id": "1fef97d4-135d-400b-848a-604548d7d2d6",
   "metadata": {},
   "outputs": [
    {
     "name": "stderr",
     "output_type": "stream",
     "text": [
      "/Users/david/opt/anaconda3/lib/python3.9/site-packages/tensorflow/python/keras/datasets/imdb.py:128: VisibleDeprecationWarning: Creating an ndarray from ragged nested sequences (which is a list-or-tuple of lists-or-tuples-or ndarrays with different lengths or shapes) is deprecated. If you meant to do this, you must specify 'dtype=object' when creating the ndarray.\n",
      "  x_train, y_train = np.array(xs[:idx]), np.array(labels[:idx])\n",
      "/Users/david/opt/anaconda3/lib/python3.9/site-packages/tensorflow/python/keras/datasets/imdb.py:129: VisibleDeprecationWarning: Creating an ndarray from ragged nested sequences (which is a list-or-tuple of lists-or-tuples-or ndarrays with different lengths or shapes) is deprecated. If you meant to do this, you must specify 'dtype=object' when creating the ndarray.\n",
      "  x_test, y_test = np.array(xs[idx:]), np.array(labels[idx:])\n"
     ]
    }
   ],
   "source": [
    "import numpy as np\n",
    "# save np.load\n",
    "np_load_old = np.load\n",
    "\n",
    "# modify the default parameters of np.load\n",
    "np.load = lambda *a,**k: np_load_old(*a, allow_pickle=True, **k)\n",
    "\n",
    "# call load_data with allow_pickle implicitly set to true\n",
    "(train_data, train_labels), (test_data, test_labels) = imdb.load_data(num_words=10000)\n",
    "\n",
    "# restore np.load for future normal usage\n",
    "np.load = np_load_old"
   ]
  },
  {
   "cell_type": "code",
   "execution_count": 9,
   "id": "3dbffc81-1009-44cf-b6e8-0ce3e618a158",
   "metadata": {},
   "outputs": [
    {
     "data": {
      "text/plain": [
       "9999"
      ]
     },
     "execution_count": 9,
     "metadata": {},
     "output_type": "execute_result"
    }
   ],
   "source": [
    "max([max(i) for i in train_data])"
   ]
  },
  {
   "cell_type": "code",
   "execution_count": 14,
   "id": "0efad832-51ef-4bc7-bb46-df3e39d35675",
   "metadata": {},
   "outputs": [],
   "source": [
    "word_index = imdb.get_word_index() # show indices of words"
   ]
  },
  {
   "cell_type": "code",
   "execution_count": 32,
   "id": "946c6a23-1240-4646-9c60-80fba14e3296",
   "metadata": {},
   "outputs": [
    {
     "data": {
      "text/plain": [
       "19"
      ]
     },
     "execution_count": 32,
     "metadata": {},
     "output_type": "execute_result"
    }
   ],
   "source": [
    "word_index.get('film') # you can get the index of a specific word"
   ]
  },
  {
   "cell_type": "code",
   "execution_count": 36,
   "id": "380da808-9973-45e0-b883-76227b855c35",
   "metadata": {},
   "outputs": [
    {
     "name": "stdout",
     "output_type": "stream",
     "text": [
      "[1, 14, 22, 16, 43, 530, 973, 1622, 1385, 65, 458, 4468, 66, 3941, 4, 173, 36, 256, 5, 25, 100, 43, 838, 112, 50, 670, 2, 9, 35, 480, 284, 5, 150, 4, 172, 112, 167, 2, 336, 385, 39, 4, 172, 4536, 1111, 17, 546, 38, 13, 447, 4, 192, 50, 16, 6, 147, 2025, 19, 14, 22, 4, 1920, 4613, 469, 4, 22, 71, 87, 12, 16, 43, 530, 38, 76, 15, 13, 1247, 4, 22, 17, 515, 17, 12, 16, 626, 18, 2, 5, 62, 386, 12, 8, 316, 8, 106, 5, 4, 2223, 5244, 16, 480, 66, 3785, 33, 4, 130, 12, 16, 38, 619, 5, 25, 124, 51, 36, 135, 48, 25, 1415, 33, 6, 22, 12, 215, 28, 77, 52, 5, 14, 407, 16, 82, 2, 8, 4, 107, 117, 5952, 15, 256, 4, 2, 7, 3766, 5, 723, 36, 71, 43, 530, 476, 26, 400, 317, 46, 7, 4, 2, 1029, 13, 104, 88, 4, 381, 15, 297, 98, 32, 2071, 56, 26, 141, 6, 194, 7486, 18, 4, 226, 22, 21, 134, 476, 26, 480, 5, 144, 30, 5535, 18, 51, 36, 28, 224, 92, 25, 104, 4, 226, 65, 16, 38, 1334, 88, 12, 16, 283, 5, 16, 4472, 113, 103, 32, 15, 16, 5345, 19, 178, 32]\n"
     ]
    }
   ],
   "source": [
    "print(train_data[0]) # these are word indices corresponding to specific words"
   ]
  },
  {
   "cell_type": "code",
   "execution_count": 37,
   "id": "5353ebf7-e6e1-42e9-991d-ef977dd17b63",
   "metadata": {},
   "outputs": [],
   "source": [
    "Xtrain = preprocessing.sequence.pad_sequences(train_data, maxlen=20)\n",
    "Xtest = preprocessing.sequence.pad_sequences(test_data, maxlen=20)"
   ]
  },
  {
   "cell_type": "code",
   "execution_count": 42,
   "id": "6281a6f4-80cd-49b4-8bf7-186cbf843663",
   "metadata": {},
   "outputs": [
    {
     "data": {
      "text/plain": [
       "(25000,)"
      ]
     },
     "execution_count": 42,
     "metadata": {},
     "output_type": "execute_result"
    }
   ],
   "source": [
    "train_data.shape"
   ]
  },
  {
   "cell_type": "code",
   "execution_count": 39,
   "id": "5ae4921e-4a06-4e62-9a41-0548b7048869",
   "metadata": {},
   "outputs": [
    {
     "data": {
      "text/plain": [
       "(25000, 20)"
      ]
     },
     "execution_count": 39,
     "metadata": {},
     "output_type": "execute_result"
    }
   ],
   "source": [
    "Xtrain.shape # this is the input shape, embedding layer will take this 2D data and returns a 3D tensor (samples, sequence_length, embedding_dimensionality)"
   ]
  },
  {
   "cell_type": "code",
   "execution_count": 61,
   "id": "8b0e6e85-6df9-4902-9639-b01977ffecc0",
   "metadata": {},
   "outputs": [
    {
     "data": {
      "text/plain": [
       "array([  65,   16,   38, 1334,   88,   12,   16,  283,    5,   16, 4472,\n",
       "        113,  103,   32,   15,   16, 5345,   19,  178,   32], dtype=int32)"
      ]
     },
     "execution_count": 61,
     "metadata": {},
     "output_type": "execute_result"
    }
   ],
   "source": [
    "Xtrain[0]"
   ]
  },
  {
   "cell_type": "markdown",
   "id": "01ec3c6f-18ea-4ccf-8c61-dc6b01a7fc76",
   "metadata": {},
   "source": [
    "### Using an Embedding layer and classifier on the IMDB data"
   ]
  },
  {
   "cell_type": "code",
   "execution_count": 134,
   "id": "474fb855-32e7-475b-9e07-7e6ca7e17478",
   "metadata": {},
   "outputs": [],
   "source": [
    "from tensorflow.keras.models import Sequential\n",
    "from tensorflow.keras.layers import Flatten, Dense"
   ]
  },
  {
   "cell_type": "code",
   "execution_count": 46,
   "id": "83648900-84cd-42fe-86d8-f99a3d5167d6",
   "metadata": {},
   "outputs": [],
   "source": [
    "network = Sequential()\n",
    "network.add(Embedding(10000, 8, input_length=20))\n",
    "network.add(Flatten()) # Flattens the 3D tensor of embeddings into a 2D tensor of shape (samples, maxlen * 8)\n",
    "network.add(Dense(1, activation='sigmoid'))\n",
    "network.compile(optimizer='rmsprop', loss='binary_crossentropy', metrics=['acc'])"
   ]
  },
  {
   "cell_type": "code",
   "execution_count": 48,
   "id": "19f38e5b-3423-4cf8-a7cd-f98fb9ea5fdd",
   "metadata": {},
   "outputs": [
    {
     "name": "stdout",
     "output_type": "stream",
     "text": [
      "_________________________________________________________________\n",
      "Layer (type)                 Output Shape              Param #   \n",
      "=================================================================\n",
      "embedding (Embedding)        (None, 20, 8)             80000     \n",
      "_________________________________________________________________\n",
      "flatten (Flatten)            (None, 160)               0         \n",
      "_________________________________________________________________\n",
      "dense (Dense)                (None, 1)                 161       \n",
      "=================================================================\n",
      "Total params: 80,161\n",
      "Trainable params: 80,161\n",
      "Non-trainable params: 0\n",
      "_________________________________________________________________\n"
     ]
    }
   ],
   "source": [
    "network.summary()"
   ]
  },
  {
   "cell_type": "code",
   "execution_count": 50,
   "id": "d09cd5d2-5a86-4f0c-9b84-e4630527a7a5",
   "metadata": {},
   "outputs": [
    {
     "name": "stderr",
     "output_type": "stream",
     "text": [
      "/Users/david/opt/anaconda3/lib/python3.9/site-packages/tensorflow/python/ops/gradients_impl.py:111: UserWarning: Converting sparse IndexedSlices to a dense Tensor of unknown shape. This may consume a large amount of memory.\n",
      "  warnings.warn(\n",
      "2022-09-04 05:15:55.194759: I tensorflow/core/platform/cpu_feature_guard.cc:141] Your CPU supports instructions that this TensorFlow binary was not compiled to use: AVX2 FMA\n"
     ]
    },
    {
     "name": "stdout",
     "output_type": "stream",
     "text": [
      "Train on 20000 samples, validate on 5000 samples\n",
      "Epoch 1/10\n",
      "20000/20000 [==============================] - 1s 48us/step - loss: 0.6733 - acc: 0.6088 - val_loss: 0.6288 - val_acc: 0.6924\n",
      "Epoch 2/10\n",
      "20000/20000 [==============================] - 1s 27us/step - loss: 0.5530 - acc: 0.7492 - val_loss: 0.5337 - val_acc: 0.7284\n",
      "Epoch 3/10\n",
      "20000/20000 [==============================] - 1s 26us/step - loss: 0.4672 - acc: 0.7849 - val_loss: 0.5053 - val_acc: 0.7414\n",
      "Epoch 4/10\n",
      "20000/20000 [==============================] - 1s 27us/step - loss: 0.4232 - acc: 0.8085 - val_loss: 0.4994 - val_acc: 0.7464\n",
      "Epoch 5/10\n",
      "20000/20000 [==============================] - 1s 27us/step - loss: 0.3927 - acc: 0.8258 - val_loss: 0.5002 - val_acc: 0.7470\n",
      "Epoch 6/10\n",
      "20000/20000 [==============================] - 1s 26us/step - loss: 0.3677 - acc: 0.8394 - val_loss: 0.5054 - val_acc: 0.7478\n",
      "Epoch 7/10\n",
      "20000/20000 [==============================] - 1s 28us/step - loss: 0.3458 - acc: 0.8520 - val_loss: 0.5145 - val_acc: 0.7484\n",
      "Epoch 8/10\n",
      "20000/20000 [==============================] - 1s 26us/step - loss: 0.3260 - acc: 0.8633 - val_loss: 0.5205 - val_acc: 0.7460\n",
      "Epoch 9/10\n",
      "20000/20000 [==============================] - 1s 26us/step - loss: 0.3072 - acc: 0.8732 - val_loss: 0.5292 - val_acc: 0.7442\n",
      "Epoch 10/10\n",
      "20000/20000 [==============================] - 1s 26us/step - loss: 0.2897 - acc: 0.8830 - val_loss: 0.5406 - val_acc: 0.7450\n"
     ]
    }
   ],
   "source": [
    "history = network.fit(Xtrain,train_labels, epochs=10, batch_size=32, validation_split=0.2)"
   ]
  },
  {
   "cell_type": "code",
   "execution_count": 75,
   "id": "ed0f180d-0d15-41d4-9829-5ddab0b14071",
   "metadata": {},
   "outputs": [],
   "source": [
    "acc = history.history['acc']\n",
    "loss = history.history['loss']\n",
    "val_loss =history.history['val_loss']\n",
    "val_acc = history.history['val_acc']"
   ]
  },
  {
   "cell_type": "code",
   "execution_count": 63,
   "id": "756c3ffd-df42-40a8-af52-b6cfc83777c1",
   "metadata": {},
   "outputs": [],
   "source": [
    "import matplotlib.pyplot as plt"
   ]
  },
  {
   "cell_type": "code",
   "execution_count": 74,
   "id": "6281768a-8852-4bd1-a317-74ff7ad6d1c9",
   "metadata": {},
   "outputs": [
    {
     "data": {
      "text/plain": [
       "dict_keys(['val_loss', 'val_acc', 'loss', 'acc'])"
      ]
     },
     "execution_count": 74,
     "metadata": {},
     "output_type": "execute_result"
    }
   ],
   "source": [
    "history.history.keys()"
   ]
  },
  {
   "cell_type": "code",
   "execution_count": 81,
   "id": "b830274f-c2e4-473a-83f0-8e4045890374",
   "metadata": {},
   "outputs": [
    {
     "data": {
      "image/png": "[encoded data removed]",
      "text/plain": [
       "<Figure size 432x288 with 1 Axes>"
      ]
     },
     "metadata": {
      "needs_background": "light"
     },
     "output_type": "display_data"
    }
   ],
   "source": [
    "plt.plot(range(10), val_loss, ':r')\n",
    "plt.plot(range(10), val_acc, '--r'); # when epoch = 3, the model starts to overfit the training data"
   ]
  },
  {
   "cell_type": "markdown",
   "id": "d1cd5f6f-6af2-4e30-9c8c-4ad25a17f54c",
   "metadata": {
    "tags": []
   },
   "source": [
    "# from raw text to word embeddings"
   ]
  },
  {
   "cell_type": "markdown",
   "id": "6d5c6560-36ba-4db5-bc85-31df6db73fb9",
   "metadata": {
    "tags": []
   },
   "source": [
    "### Processing the labels of the raw IMDB data"
   ]
  },
  {
   "cell_type": "code",
   "execution_count": 95,
   "id": "5060af02-47f6-43c4-a442-30832cf2e0fa",
   "metadata": {},
   "outputs": [],
   "source": [
    "import os"
   ]
  },
  {
   "cell_type": "code",
   "execution_count": 96,
   "id": "a4e3d6d2-2737-41da-b468-e774339f1bde",
   "metadata": {},
   "outputs": [],
   "source": [
    "imdb_dir = 'aclImdb'"
   ]
  },
  {
   "cell_type": "code",
   "execution_count": 97,
   "id": "7795ea7f-26e5-4209-a699-bee81ffc9e6a",
   "metadata": {},
   "outputs": [],
   "source": [
    "train_dir = os.path.join(imdb_dir, 'train')"
   ]
  },
  {
   "cell_type": "code",
   "execution_count": 98,
   "id": "a4ed119f-74d4-4928-aa84-a7b2aad7180c",
   "metadata": {},
   "outputs": [],
   "source": [
    "labels = []\n",
    "texts = []\n",
    "for label_type in ['neg', 'pos']:\n",
    "    dir_name = os.path.join(train_dir, label_type)\n",
    "    for fname in os.listdir(dir_name):\n",
    "        if fname[-4:] =='.txt':\n",
    "            f = open(os.path.join(dir_name, fname))\n",
    "            texts.append(f.read())\n",
    "            f.close()\n",
    "            if label_type=='neg':\n",
    "                labels.append(0)\n",
    "            else:\n",
    "                labels.append(1)"
   ]
  },
  {
   "cell_type": "code",
   "execution_count": 99,
   "id": "85044d09-4d44-4118-88aa-a31e75ed07f3",
   "metadata": {},
   "outputs": [
    {
     "data": {
      "text/plain": [
       "array([0, 1])"
      ]
     },
     "execution_count": 99,
     "metadata": {},
     "output_type": "execute_result"
    }
   ],
   "source": [
    "np.unique(labels)"
   ]
  },
  {
   "cell_type": "code",
   "execution_count": 100,
   "id": "872191e1-9176-410b-9a9a-49dc8d2636af",
   "metadata": {},
   "outputs": [
    {
     "data": {
      "text/plain": [
       "'Well...tremors I, the original started off in 1990 and i found the movie quite enjoyable to watch. however, they proceeded to make tremors II and III. Trust me, those movies started going downhill right after they finished the first one, i mean, ass blasters??? Now, only God himself is capable of answering the question \"why in Gods name would they create another one of these dumpster dives of a movie?\" Tremors IV cannot be considered a bad movie, in fact it cannot be even considered an epitome of a bad movie, for it lives up to more than that. As i attempted to sit though it, i noticed that my eyes started to bleed, and i hoped profusely that the little girl from the ring would crawl through the TV and kill me. did they really think that dressing the people who had stared in the other movies up as though they we\\'re from the wild west would make the movie (with the exact same occurrences) any better? honestly, i would never suggest buying this movie, i mean, there are cheaper ways to find things that burn well.'"
      ]
     },
     "execution_count": 100,
     "metadata": {},
     "output_type": "execute_result"
    }
   ],
   "source": [
    "texts[1] # one example"
   ]
  },
  {
   "cell_type": "markdown",
   "id": "28134f87-a0b5-4b8d-981b-8b3555d49c0d",
   "metadata": {},
   "source": [
    "### tokenizing the text of the raw IMDB data"
   ]
  },
  {
   "cell_type": "code",
   "execution_count": 101,
   "id": "6e0fdb1e-8268-433d-905d-15404ea62186",
   "metadata": {},
   "outputs": [],
   "source": [
    "from tensorflow.keras.preprocessing.text import Tokenizer\n",
    "from tensorflow.keras.preprocessing.sequence import pad_sequences\n",
    "import numpy "
   ]
  },
  {
   "cell_type": "code",
   "execution_count": 102,
   "id": "0b7c5f41-b48c-46e8-a133-8c4083130a96",
   "metadata": {},
   "outputs": [],
   "source": [
    "maxlen = 100\n",
    "training_samples = 200\n",
    "validation_samples = 10000\n",
    "max_words = 10000"
   ]
  },
  {
   "cell_type": "code",
   "execution_count": 103,
   "id": "7d8868bd-8adc-4e3e-8574-0dab853eba91",
   "metadata": {},
   "outputs": [],
   "source": [
    "tokenizer = Tokenizer(num_words = max_words)"
   ]
  },
  {
   "cell_type": "code",
   "execution_count": 104,
   "id": "d0fc527d-69be-4933-8b59-50e154f07d05",
   "metadata": {},
   "outputs": [],
   "source": [
    "tokenizer.fit_on_texts(texts)"
   ]
  },
  {
   "cell_type": "code",
   "execution_count": 105,
   "id": "9564d204-abd7-4269-a125-36b48097cd55",
   "metadata": {},
   "outputs": [],
   "source": [
    "sequences = tokenizer.texts_to_sequences(texts)"
   ]
  },
  {
   "cell_type": "code",
   "execution_count": 106,
   "id": "350a1f6c-3831-4575-9ba2-369f4b20f245",
   "metadata": {},
   "outputs": [],
   "source": [
    "word_index = tokenizer.word_index"
   ]
  },
  {
   "cell_type": "code",
   "execution_count": 107,
   "id": "4b598eff-8cfc-46e7-b7f5-2521f99cdbb9",
   "metadata": {},
   "outputs": [
    {
     "data": {
      "text/plain": [
       "4"
      ]
     },
     "execution_count": 107,
     "metadata": {},
     "output_type": "execute_result"
    }
   ],
   "source": [
    "word_index.get('of') "
   ]
  },
  {
   "cell_type": "code",
   "execution_count": 108,
   "id": "a545a79a-08b0-4ab4-8ab2-76d4799ca63d",
   "metadata": {},
   "outputs": [
    {
     "name": "stdout",
     "output_type": "stream",
     "text": [
      "[777, 16, 28, 4, 1, 115, 2278, 6887, 11, 19, 1025, 5, 27, 5, 42, 2425, 1861, 128, 2270, 5, 3, 6985, 308, 7, 7, 3383, 2373, 1, 19, 36, 463, 3169, 2, 222, 3, 1016, 174, 20, 49, 808]\n"
     ]
    }
   ],
   "source": [
    "print(sequences[0]) # these are the indices of those words that are in the first document"
   ]
  },
  {
   "cell_type": "code",
   "execution_count": 109,
   "id": "da06caf0-8b39-48d8-9b77-d1a0fff97987",
   "metadata": {},
   "outputs": [
    {
     "name": "stdout",
     "output_type": "stream",
     "text": [
      "Found 88582 unique tokens.\n"
     ]
    }
   ],
   "source": [
    "print('Found %s unique tokens.' % len(word_index))"
   ]
  },
  {
   "cell_type": "code",
   "execution_count": 110,
   "id": "f60d8dcd-30fb-48d4-b3dd-deda5a665b8b",
   "metadata": {},
   "outputs": [],
   "source": [
    "data = pad_sequences(sequences, maxlen = maxlen)"
   ]
  },
  {
   "cell_type": "code",
   "execution_count": 111,
   "id": "da78a99b-7a6e-4a16-b4d5-2eb56edbace7",
   "metadata": {},
   "outputs": [],
   "source": [
    "labels = np.asarray(labels)"
   ]
  },
  {
   "cell_type": "code",
   "execution_count": 112,
   "id": "e80e74d9-f190-46ca-8fde-038de793e0f5",
   "metadata": {},
   "outputs": [
    {
     "name": "stdout",
     "output_type": "stream",
     "text": [
      "shape of data tensor: (25000, 100)\n"
     ]
    }
   ],
   "source": [
    "print(f'shape of data tensor: {data.shape}')"
   ]
  },
  {
   "cell_type": "code",
   "execution_count": 113,
   "id": "d1fa28a3-672f-4b4d-b2d7-87288491448f",
   "metadata": {},
   "outputs": [
    {
     "name": "stdout",
     "output_type": "stream",
     "text": [
      "shape of label shape: (25000,)\n"
     ]
    }
   ],
   "source": [
    "print(f'shape of label shape: {labels.shape}')"
   ]
  },
  {
   "cell_type": "code",
   "execution_count": 114,
   "id": "b9d8c99b-acd1-4e0f-8dd6-84d823413470",
   "metadata": {},
   "outputs": [],
   "source": [
    "indices = np.arange(data.shape[0]) "
   ]
  },
  {
   "cell_type": "code",
   "execution_count": 115,
   "id": "1c92a0a8-5578-4a82-b70f-c15c92e689d8",
   "metadata": {},
   "outputs": [],
   "source": [
    "np.random.shuffle(indices) # randomize the samples "
   ]
  },
  {
   "cell_type": "code",
   "execution_count": 116,
   "id": "16d1669e-16af-41f5-93aa-1502e480e3f1",
   "metadata": {},
   "outputs": [],
   "source": [
    "data = data[indices]\n",
    "labels = labels[indices]"
   ]
  },
  {
   "cell_type": "code",
   "execution_count": 117,
   "id": "ae451214-39f6-4628-b79c-e5b6a946c430",
   "metadata": {},
   "outputs": [],
   "source": [
    "Xtrain = data[:training_samples]\n",
    "ytrain = labels[:training_samples]\n",
    "xval = data[training_samples: training_samples + validation_samples]\n",
    "yval = labels[training_samples: training_samples + validation_samples]"
   ]
  },
  {
   "cell_type": "markdown",
   "id": "08f639c4-f604-4276-9b87-becf0fd150cc",
   "metadata": {},
   "source": [
    "### Parsing the GloVe word-embeddings file"
   ]
  },
  {
   "cell_type": "code",
   "execution_count": 118,
   "id": "0f12d660-4ac6-47ab-ae39-95ea2c4e8664",
   "metadata": {},
   "outputs": [],
   "source": [
    "glove_dir = 'glove.6B'"
   ]
  },
  {
   "cell_type": "code",
   "execution_count": 119,
   "id": "dae0974a-a932-4753-a61f-5087da7d34b0",
   "metadata": {},
   "outputs": [],
   "source": [
    "embeddings_index = {}\n",
    "f = open(os.path.join(glove_dir, 'glove.6B.100d.txt'))\n",
    "for line in f:\n",
    "    values = line.split()\n",
    "    word = values[0]\n",
    "    coefs = np.asarray(values[1:], dtype='float32')\n",
    "    embeddings_index[word] = coefs\n",
    "f.close()"
   ]
  },
  {
   "cell_type": "code",
   "execution_count": 121,
   "id": "5fc2eb25-468e-4c2a-bf45-6a16b4b59267",
   "metadata": {},
   "outputs": [
    {
     "name": "stdout",
     "output_type": "stream",
     "text": [
      "length of embedding index: 400000\n"
     ]
    }
   ],
   "source": [
    "print(f'length of embedding index: {len(embeddings_index)}')"
   ]
  },
  {
   "cell_type": "code",
   "execution_count": 123,
   "id": "608d5619-860e-4803-b5d4-e581747b771c",
   "metadata": {},
   "outputs": [
    {
     "data": {
      "text/plain": [
       "array([-0.038194, -0.24487 ,  0.72812 , -0.39961 ,  0.083172,  0.043953,\n",
       "       -0.39141 ,  0.3344  , -0.57545 ,  0.087459,  0.28787 , -0.06731 ,\n",
       "        0.30906 , -0.26384 , -0.13231 , -0.20757 ,  0.33395 , -0.33848 ,\n",
       "       -0.31743 , -0.48336 ,  0.1464  , -0.37304 ,  0.34577 ,  0.052041,\n",
       "        0.44946 , -0.46971 ,  0.02628 , -0.54155 , -0.15518 , -0.14107 ,\n",
       "       -0.039722,  0.28277 ,  0.14393 ,  0.23464 , -0.31021 ,  0.086173,\n",
       "        0.20397 ,  0.52624 ,  0.17164 , -0.082378, -0.71787 , -0.41531 ,\n",
       "        0.20335 , -0.12763 ,  0.41367 ,  0.55187 ,  0.57908 , -0.33477 ,\n",
       "       -0.36559 , -0.54857 , -0.062892,  0.26584 ,  0.30205 ,  0.99775 ,\n",
       "       -0.80481 , -3.0243  ,  0.01254 , -0.36942 ,  2.2167  ,  0.72201 ,\n",
       "       -0.24978 ,  0.92136 ,  0.034514,  0.46745 ,  1.1079  , -0.19358 ,\n",
       "       -0.074575,  0.23353 , -0.052062, -0.22044 ,  0.057162, -0.15806 ,\n",
       "       -0.30798 , -0.41625 ,  0.37972 ,  0.15006 , -0.53212 , -0.2055  ,\n",
       "       -1.2526  ,  0.071624,  0.70565 ,  0.49744 , -0.42063 ,  0.26148 ,\n",
       "       -1.538   , -0.30223 , -0.073438, -0.28312 ,  0.37104 , -0.25217 ,\n",
       "        0.016215, -0.017099, -0.38984 ,  0.87424 , -0.72569 , -0.51058 ,\n",
       "       -0.52028 , -0.1459  ,  0.8278  ,  0.27062 ], dtype=float32)"
      ]
     },
     "execution_count": 123,
     "metadata": {},
     "output_type": "execute_result"
    }
   ],
   "source": [
    "embeddings_index.get('the') # one example"
   ]
  },
  {
   "cell_type": "code",
   "execution_count": 131,
   "id": "6a464ff9-ed4f-42ad-b85e-206f529561d1",
   "metadata": {},
   "outputs": [
    {
     "data": {
      "text/plain": [
       "(100,)"
      ]
     },
     "execution_count": 131,
     "metadata": {},
     "output_type": "execute_result"
    }
   ],
   "source": [
    "embeddings_index.get('the').shape"
   ]
  },
  {
   "cell_type": "markdown",
   "id": "5b5668e9-e960-4065-a5fd-bcb396c09879",
   "metadata": {},
   "source": [
    "### Preparing the GloVe word-embeddings matrix"
   ]
  },
  {
   "cell_type": "code",
   "execution_count": 124,
   "id": "a0f0e132-1aed-435a-aa16-9399c7333223",
   "metadata": {},
   "outputs": [],
   "source": [
    "embedding_dim = 100"
   ]
  },
  {
   "cell_type": "code",
   "execution_count": 132,
   "id": "d91d34f4-9bde-4c36-bf9d-4d9527e65bed",
   "metadata": {},
   "outputs": [],
   "source": [
    "embedding_matrix = np.zeros(shape=(max_words, embedding_dim)) # max_words =10000 as we defined previously\n",
    "for word, i in word_index.items():\n",
    "    if i < max_words:\n",
    "        embedding_vector = embeddings_index.get(word)\n",
    "        if embedding_vector is not None:\n",
    "            embedding_matrix[i] = embedding_vector"
   ]
  },
  {
   "cell_type": "code",
   "execution_count": 133,
   "id": "901dab4b-3714-4159-9d57-a6023f5c7e4f",
   "metadata": {},
   "outputs": [
    {
     "data": {
      "text/plain": [
       "(10000, 100)"
      ]
     },
     "execution_count": 133,
     "metadata": {},
     "output_type": "execute_result"
    }
   ],
   "source": [
    "embedding_matrix.shape"
   ]
  },
  {
   "cell_type": "markdown",
   "id": "a9d50737-3f0a-49d7-be71-21354764d887",
   "metadata": {},
   "source": [
    "### build the model"
   ]
  },
  {
   "cell_type": "code",
   "execution_count": 137,
   "id": "c772964a-2c28-42ba-a986-a25fe4a1ea57",
   "metadata": {},
   "outputs": [
    {
     "name": "stdout",
     "output_type": "stream",
     "text": [
      "_________________________________________________________________\n",
      "Layer (type)                 Output Shape              Param #   \n",
      "=================================================================\n",
      "embedding_2 (Embedding)      (None, 100, 100)          1000000   \n",
      "_________________________________________________________________\n",
      "flatten_1 (Flatten)          (None, 10000)             0         \n",
      "_________________________________________________________________\n",
      "dense_1 (Dense)              (None, 32)                320032    \n",
      "_________________________________________________________________\n",
      "dense_2 (Dense)              (None, 1)                 33        \n",
      "=================================================================\n",
      "Total params: 1,320,065\n",
      "Trainable params: 1,320,065\n",
      "Non-trainable params: 0\n",
      "_________________________________________________________________\n"
     ]
    }
   ],
   "source": [
    "model = Sequential()\n",
    "model.add(Embedding(max_words, embedding_dim, input_length=maxlen))\n",
    "model.add(Flatten())\n",
    "model.add(Dense(32, activation='relu'))\n",
    "model.add(Dense(1, activation='sigmoid'))\n",
    "model.summary()"
   ]
  },
  {
   "cell_type": "code",
   "execution_count": 138,
   "id": "73816940-ec07-4e04-82b1-2542a0d0a579",
   "metadata": {},
   "outputs": [],
   "source": [
    "model.layers[0].set_weights([embedding_matrix])\n",
    "model.layers[0].trainable = False"
   ]
  },
  {
   "cell_type": "code",
   "execution_count": 139,
   "id": "64e8695e-795b-4a0d-96c5-760a0643ee0d",
   "metadata": {},
   "outputs": [
    {
     "name": "stdout",
     "output_type": "stream",
     "text": [
      "Train on 200 samples, validate on 10000 samples\n",
      "Epoch 1/10\n",
      "200/200 [==============================] - 1s 3ms/step - loss: 1.7695 - acc: 0.5100 - val_loss: 0.7238 - val_acc: 0.4936\n",
      "Epoch 2/10\n",
      "200/200 [==============================] - 0s 2ms/step - loss: 0.5969 - acc: 0.6350 - val_loss: 0.6912 - val_acc: 0.5354\n",
      "Epoch 3/10\n",
      "200/200 [==============================] - 0s 2ms/step - loss: 0.5768 - acc: 0.7800 - val_loss: 0.9323 - val_acc: 0.5095\n",
      "Epoch 4/10\n",
      "200/200 [==============================] - 0s 2ms/step - loss: 0.4161 - acc: 0.7500 - val_loss: 0.8556 - val_acc: 0.5283\n",
      "Epoch 5/10\n",
      "200/200 [==============================] - 0s 2ms/step - loss: 0.2689 - acc: 0.8700 - val_loss: 0.6890 - val_acc: 0.5755\n",
      "Epoch 6/10\n",
      "200/200 [==============================] - 0s 2ms/step - loss: 0.1721 - acc: 0.9550 - val_loss: 0.8247 - val_acc: 0.5401\n",
      "Epoch 7/10\n",
      "200/200 [==============================] - 0s 2ms/step - loss: 0.0837 - acc: 1.0000 - val_loss: 0.7294 - val_acc: 0.5729\n",
      "Epoch 8/10\n",
      "200/200 [==============================] - 0s 2ms/step - loss: 0.3158 - acc: 0.8350 - val_loss: 0.7439 - val_acc: 0.5712\n",
      "Epoch 9/10\n",
      "200/200 [==============================] - 0s 2ms/step - loss: 0.0486 - acc: 1.0000 - val_loss: 0.8289 - val_acc: 0.5544\n",
      "Epoch 10/10\n",
      "200/200 [==============================] - 0s 2ms/step - loss: 0.0300 - acc: 1.0000 - val_loss: 0.9288 - val_acc: 0.5427\n"
     ]
    }
   ],
   "source": [
    "model.compile(optimizer='rmsprop', loss='binary_crossentropy', metrics=['acc'])\n",
    "model.fit(Xtrain, ytrain, epochs=10, batch_size=32, validation_data=[xval, yval])"
   ]
  },
  {
   "cell_type": "code",
   "execution_count": 175,
   "id": "6b0ef388-2f4e-4ada-b3ba-4558c023e57e",
   "metadata": {},
   "outputs": [],
   "source": [
    "model.save_weights('pre_trained_glove_model.h5')"
   ]
  },
  {
   "cell_type": "code",
   "execution_count": 140,
   "id": "2741a0a2-e23f-4486-8829-ff74c8ac39d0",
   "metadata": {},
   "outputs": [],
   "source": [
    "import matplotlib.pyplot as plt"
   ]
  },
  {
   "cell_type": "code",
   "execution_count": 148,
   "id": "0703fec7-f56c-411a-aefd-d67ed1c41819",
   "metadata": {},
   "outputs": [],
   "source": [
    "loss = model.history.history['loss']\n",
    "val_loss = model.history.history['val_loss']"
   ]
  },
  {
   "cell_type": "code",
   "execution_count": 154,
   "id": "d5a4a339-4282-4359-8184-141378be78a7",
   "metadata": {},
   "outputs": [
    {
     "data": {
      "image/png": "[encoded data removed]",
      "text/plain": [
       "<Figure size 432x288 with 1 Axes>"
      ]
     },
     "metadata": {
      "needs_background": "light"
     },
     "output_type": "display_data"
    }
   ],
   "source": [
    "epoch = range(1, len(loss)+1)\n",
    "plt.plot(epoch, loss, '--r', label='loss')\n",
    "plt.plot(epoch, val_loss, ':b', label='validation loss')\n",
    "plt.legend();  # The model quickly starts overfitting, which is unsurprising given the small number of training samples."
   ]
  },
  {
   "cell_type": "code",
   "execution_count": 151,
   "id": "8df831c2-807e-45bf-8987-2f81c05ddc8a",
   "metadata": {},
   "outputs": [],
   "source": [
    "acc = model.history.history['acc']\n",
    "val_acc = model.history.history['val_acc']"
   ]
  },
  {
   "cell_type": "code",
   "execution_count": 155,
   "id": "a16dbba9-8a72-4422-8829-a985e0831d7d",
   "metadata": {},
   "outputs": [
    {
     "data": {
      "image/png": "[encoded data removed]",
      "text/plain": [
       "<Figure size 432x288 with 1 Axes>"
      ]
     },
     "metadata": {
      "needs_background": "light"
     },
     "output_type": "display_data"
    }
   ],
   "source": [
    "epoch = range(1, len(loss)+1)\n",
    "plt.plot(epoch, acc, '--r', label='acc')\n",
    "plt.plot(epoch, val_acc, ':b', label='validation acc')\n",
    "plt.legend(); # The model quickly starts overfitting, which is unsurprising given the small number of training samples."
   ]
  },
  {
   "cell_type": "markdown",
   "id": "ac669beb-68f4-40e4-8154-01eecbf623e5",
   "metadata": {},
   "source": [
    "### Training the same model without pretrained word embeddings"
   ]
  },
  {
   "cell_type": "code",
   "execution_count": 156,
   "id": "134e2d06-d6b9-4c94-813f-65c85532f380",
   "metadata": {},
   "outputs": [
    {
     "name": "stdout",
     "output_type": "stream",
     "text": [
      "_________________________________________________________________\n",
      "Layer (type)                 Output Shape              Param #   \n",
      "=================================================================\n",
      "embedding_3 (Embedding)      (None, 100, 100)          1000000   \n",
      "_________________________________________________________________\n",
      "flatten_2 (Flatten)          (None, 10000)             0         \n",
      "_________________________________________________________________\n",
      "dense_3 (Dense)              (None, 32)                320032    \n",
      "_________________________________________________________________\n",
      "dense_4 (Dense)              (None, 1)                 33        \n",
      "=================================================================\n",
      "Total params: 1,320,065\n",
      "Trainable params: 1,320,065\n",
      "Non-trainable params: 0\n",
      "_________________________________________________________________\n"
     ]
    },
    {
     "name": "stderr",
     "output_type": "stream",
     "text": [
      "/Users/david/opt/anaconda3/lib/python3.9/site-packages/tensorflow/python/ops/gradients_impl.py:111: UserWarning: Converting sparse IndexedSlices to a dense Tensor of unknown shape. This may consume a large amount of memory.\n",
      "  warnings.warn(\n"
     ]
    },
    {
     "name": "stdout",
     "output_type": "stream",
     "text": [
      "Train on 200 samples, validate on 10000 samples\n",
      "Epoch 1/10\n",
      "200/200 [==============================] - 1s 3ms/step - loss: 0.6911 - acc: 0.5500 - val_loss: 0.6928 - val_acc: 0.5116\n",
      "Epoch 2/10\n",
      "200/200 [==============================] - 0s 2ms/step - loss: 0.5155 - acc: 0.9650 - val_loss: 0.7008 - val_acc: 0.5149\n",
      "Epoch 3/10\n",
      "200/200 [==============================] - 0s 1ms/step - loss: 0.3075 - acc: 0.9800 - val_loss: 0.6967 - val_acc: 0.5154\n",
      "Epoch 4/10\n",
      "200/200 [==============================] - 0s 2ms/step - loss: 0.1387 - acc: 1.0000 - val_loss: 0.7064 - val_acc: 0.5216\n",
      "Epoch 5/10\n",
      "200/200 [==============================] - 0s 2ms/step - loss: 0.0662 - acc: 1.0000 - val_loss: 0.7065 - val_acc: 0.5209\n",
      "Epoch 6/10\n",
      "200/200 [==============================] - 0s 2ms/step - loss: 0.0337 - acc: 1.0000 - val_loss: 0.7160 - val_acc: 0.5249\n",
      "Epoch 7/10\n",
      "200/200 [==============================] - 0s 2ms/step - loss: 0.0184 - acc: 1.0000 - val_loss: 0.7327 - val_acc: 0.5225\n",
      "Epoch 8/10\n",
      "200/200 [==============================] - 0s 2ms/step - loss: 0.0107 - acc: 1.0000 - val_loss: 0.7332 - val_acc: 0.5217\n",
      "Epoch 9/10\n",
      "200/200 [==============================] - 0s 2ms/step - loss: 0.0063 - acc: 1.0000 - val_loss: 0.7334 - val_acc: 0.5267\n",
      "Epoch 10/10\n",
      "200/200 [==============================] - 0s 2ms/step - loss: 0.0039 - acc: 1.0000 - val_loss: 0.7424 - val_acc: 0.5249\n"
     ]
    },
    {
     "data": {
      "text/plain": [
       "<tensorflow.python.keras.callbacks.History at 0x7fc904f63d00>"
      ]
     },
     "execution_count": 156,
     "metadata": {},
     "output_type": "execute_result"
    }
   ],
   "source": [
    "model2 = Sequential()\n",
    "model2.add(Embedding(max_words, embedding_dim, input_length=maxlen))\n",
    "model2.add(Flatten())\n",
    "model2.add(Dense(32, activation='relu'))\n",
    "model2.add(Dense(1, activation='sigmoid'))\n",
    "model2.summary()\n",
    "\n",
    "model2.compile(optimizer='rmsprop', loss='binary_crossentropy', metrics=['acc'])\n",
    "model2.fit(Xtrain, ytrain, epochs=10, batch_size=32, validation_data=[xval, yval])"
   ]
  },
  {
   "cell_type": "code",
   "execution_count": 157,
   "id": "3be89348-e9d9-4536-ad25-80caea9e0b12",
   "metadata": {},
   "outputs": [],
   "source": [
    "loss = model2.history.history['loss']\n",
    "val_loss = model2.history.history['val_loss']"
   ]
  },
  {
   "cell_type": "code",
   "execution_count": 161,
   "id": "ed07dc2f-e9f0-4097-870c-a6c7e64352ee",
   "metadata": {},
   "outputs": [
    {
     "data": {
      "image/png": "[encoded data removed]",
      "text/plain": [
       "<Figure size 432x288 with 1 Axes>"
      ]
     },
     "metadata": {
      "needs_background": "light"
     },
     "output_type": "display_data"
    }
   ],
   "source": [
    "epoch = range(1, len(loss)+1)\n",
    "plt.plot(epoch, loss, '--r', label='loss')\n",
    "plt.plot(epoch, val_loss, ':b', label='validation loss')\n",
    "plt.legend();"
   ]
  },
  {
   "cell_type": "code",
   "execution_count": 159,
   "id": "0fcaaec9-816c-4c69-9630-4fcaafbbbca2",
   "metadata": {},
   "outputs": [],
   "source": [
    "acc = model2.history.history['acc']\n",
    "val_acc = model2.history.history['val_acc']"
   ]
  },
  {
   "cell_type": "code",
   "execution_count": 162,
   "id": "bc095a1b-5a0e-4e13-bd48-e8f2e1294d44",
   "metadata": {},
   "outputs": [
    {
     "data": {
      "image/png": "[encoded data removed]",
      "text/plain": [
       "<Figure size 432x288 with 1 Axes>"
      ]
     },
     "metadata": {
      "needs_background": "light"
     },
     "output_type": "display_data"
    }
   ],
   "source": [
    "epoch = range(1, len(loss)+1)\n",
    "plt.plot(epoch, acc, '--r', label='acc')\n",
    "plt.plot(epoch, val_acc, ':b', label='validation acc')\n",
    "plt.legend();"
   ]
  },
  {
   "cell_type": "markdown",
   "id": "06856bac-7706-4997-97c4-3a12040f20fa",
   "metadata": {},
   "source": [
    "### Tokenizing the data of the test set"
   ]
  },
  {
   "cell_type": "code",
   "execution_count": 163,
   "id": "1871cd8c-8e35-41c9-8298-85e8aaffd865",
   "metadata": {},
   "outputs": [],
   "source": [
    "train_dir = os.path.join(imdb_dir, 'test')"
   ]
  },
  {
   "cell_type": "code",
   "execution_count": 164,
   "id": "2757592a-6222-437d-a592-75bf1f11d4e8",
   "metadata": {},
   "outputs": [],
   "source": [
    "labels = []\n",
    "texts = []\n",
    "for label_type in ['neg', 'pos']:\n",
    "    dir_name = os.path.join(train_dir, label_type)\n",
    "    for fname in os.listdir(dir_name):\n",
    "        if fname[-4:] =='.txt':\n",
    "            f = open(os.path.join(dir_name, fname))\n",
    "            texts.append(f.read())\n",
    "            f.close()\n",
    "            if label_type=='neg':\n",
    "                labels.append(0)\n",
    "            else:\n",
    "                labels.append(1)"
   ]
  },
  {
   "cell_type": "code",
   "execution_count": 165,
   "id": "89ed016e-fe05-4c25-a16f-8497fc9555b8",
   "metadata": {},
   "outputs": [],
   "source": [
    "sequences = tokenizer.texts_to_sequences(texts)"
   ]
  },
  {
   "cell_type": "code",
   "execution_count": 172,
   "id": "1718cabf-b5cc-45e8-8901-d9069b353fe6",
   "metadata": {},
   "outputs": [],
   "source": [
    "Xtest = pad_sequences(sequences, maxlen = maxlen)\n",
    "ytest = np.asarray(labels)"
   ]
  },
  {
   "cell_type": "code",
   "execution_count": 183,
   "id": "5948338a-a34f-474d-8ff3-ba7502a73b6e",
   "metadata": {},
   "outputs": [
    {
     "name": "stdout",
     "output_type": "stream",
     "text": [
      "25000/25000 [==============================] - 1s 32us/step\n"
     ]
    },
    {
     "data": {
      "text/plain": [
       "[0.9330080100345611, 0.53736]"
      ]
     },
     "execution_count": 183,
     "metadata": {},
     "output_type": "execute_result"
    }
   ],
   "source": [
    "model.evaluate(Xtest, ytest) # 54% test accuracy, training sample is too small "
   ]
  },
  {
   "cell_type": "code",
   "execution_count": null,
   "id": "bb858a74-095e-480c-8759-05a00f28f9a3",
   "metadata": {},
   "outputs": [],
   "source": []
  }
 ],
 "metadata": {
  "kernelspec": {
   "display_name": "Python 3 (ipykernel)",
   "language": "python",
   "name": "python3"
  },
  "language_info": {
   "codemirror_mode": {
    "name": "ipython",
    "version": 3
   },
   "file_extension": ".py",
   "mimetype": "text/x-python",
   "name": "python",
   "nbconvert_exporter": "python",
   "pygments_lexer": "ipython3",
   "version": "3.9.7"
  }
 },
 "nbformat": 4,
 "nbformat_minor": 5
}
