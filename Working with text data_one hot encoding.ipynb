{
 "cells": [
  {
   "cell_type": "markdown",
   "id": "512c987a-04f6-47a4-89cb-a168bc72cb6a",
   "metadata": {},
   "source": [
    "# working with text data"
   ]
  },
  {
   "cell_type": "markdown",
   "id": "4c884592-2d31-41bd-8eaf-a8f759eb4fe5",
   "metadata": {
    "tags": []
   },
   "source": [
    "### word_level one-hot encoding"
   ]
  },
  {
   "cell_type": "code",
   "execution_count": 26,
   "id": "32266c21-ccaf-41c3-9923-ba7d91d00715",
   "metadata": {},
   "outputs": [],
   "source": [
    "import numpy as np"
   ]
  },
  {
   "cell_type": "code",
   "execution_count": 16,
   "id": "a3b9902b-e6a7-459c-9d8f-64dd883bdf7c",
   "metadata": {},
   "outputs": [],
   "source": [
    "example = ['The cat sat on the mat.', 'The dog ate my homework.']"
   ]
  },
  {
   "cell_type": "code",
   "execution_count": 5,
   "id": "b65512bd-c2a8-4445-b291-4cda77e3d814",
   "metadata": {},
   "outputs": [],
   "source": [
    "token_index={}\n",
    "for sample in example:\n",
    "    for word in sample.split():\n",
    "        token_index[word] = len(token_index) + 1"
   ]
  },
  {
   "cell_type": "code",
   "execution_count": 10,
   "id": "5c6f11e1-eb9a-4b33-8bcf-c82a37fb6a31",
   "metadata": {},
   "outputs": [
    {
     "data": {
      "text/plain": [
       "dict_keys(['The', 'cat', 'sat', 'on', 'the', 'mat.', 'dog', 'ate', 'my', 'homework.'])"
      ]
     },
     "execution_count": 10,
     "metadata": {},
     "output_type": "execute_result"
    }
   ],
   "source": [
    "token_index.keys()"
   ]
  },
  {
   "cell_type": "code",
   "execution_count": 11,
   "id": "093f30de-4513-4fba-9ee1-969a67c80859",
   "metadata": {},
   "outputs": [
    {
     "data": {
      "text/plain": [
       "7"
      ]
     },
     "execution_count": 11,
     "metadata": {},
     "output_type": "execute_result"
    }
   ],
   "source": [
    "token_index.get('The') # this returns the word index for a specific word"
   ]
  },
  {
   "cell_type": "code",
   "execution_count": 19,
   "id": "58a3c29d-0b5b-44c0-b21a-849e612e5f12",
   "metadata": {},
   "outputs": [
    {
     "data": {
      "text/plain": [
       "dict_values([7, 2, 3, 4, 5, 6, 7, 8, 9, 10])"
      ]
     },
     "execution_count": 19,
     "metadata": {},
     "output_type": "execute_result"
    }
   ],
   "source": [
    "token_index.values() # return all the indices of the words, each word has an unique index "
   ]
  },
  {
   "cell_type": "code",
   "execution_count": 21,
   "id": "d823819b-1e23-444d-9b22-10c2b82ae328",
   "metadata": {},
   "outputs": [],
   "source": [
    "max_length = 10\n",
    "results = np.zeros(shape = (len(example), max_length, max(token_index.values())+1))\n",
    "for i, sample in enumerate(example):\n",
    "    for j, word in list(enumerate(sample.split()))[:max_length]:\n",
    "        index = token_index.get(word)\n",
    "        results[i, j, index] = 1"
   ]
  },
  {
   "cell_type": "code",
   "execution_count": 23,
   "id": "ca1cc4c3-7334-4395-a62c-59f1afe3ec59",
   "metadata": {},
   "outputs": [
    {
     "data": {
      "text/plain": [
       "(2, 10, 11)"
      ]
     },
     "execution_count": 23,
     "metadata": {},
     "output_type": "execute_result"
    }
   ],
   "source": [
    "results.shape"
   ]
  },
  {
   "cell_type": "code",
   "execution_count": 18,
   "id": "b8aaa62a-cf32-4334-a4cd-0c3ae9b5626d",
   "metadata": {},
   "outputs": [
    {
     "name": "stdout",
     "output_type": "stream",
     "text": [
      "[(0, 'The'), (1, 'cat'), (2, 'sat'), (3, 'on'), (4, 'the'), (5, 'mat.')]\n",
      "[(0, 'The'), (1, 'dog'), (2, 'ate'), (3, 'my'), (4, 'homework.')]\n"
     ]
    }
   ],
   "source": [
    "for i, sample in enumerate(example):\n",
    "    print(list(enumerate(sample.split()))[:10])"
   ]
  },
  {
   "cell_type": "markdown",
   "id": "71dbe89d-cb53-498b-865c-bbe16c818932",
   "metadata": {},
   "source": [
    "### character_level one-hot encoding"
   ]
  },
  {
   "cell_type": "code",
   "execution_count": 1,
   "id": "62a9a467-6d95-4391-937e-f8ee8c8dda5c",
   "metadata": {},
   "outputs": [],
   "source": [
    "import string"
   ]
  },
  {
   "cell_type": "code",
   "execution_count": 2,
   "id": "1b76ae99-1846-4987-9e7f-1e7d1da4d057",
   "metadata": {},
   "outputs": [],
   "source": [
    "samples = ['The cat sat on the mat', 'The dog at my homework']"
   ]
  },
  {
   "cell_type": "code",
   "execution_count": 3,
   "id": "73dc4087-0357-48bd-b771-30addf4b5621",
   "metadata": {},
   "outputs": [],
   "source": [
    "characters = string.printable"
   ]
  },
  {
   "cell_type": "code",
   "execution_count": 4,
   "id": "bc12062c-d0fa-45cf-9c50-ecc9a0c1d7aa",
   "metadata": {},
   "outputs": [
    {
     "data": {
      "text/plain": [
       "'0123456789abcdefghijklmnopqrstuvwxyzABCDEFGHIJKLMNOPQRSTUVWXYZ!\"#$%&\\'()*+,-./:;<=>?@[\\\\]^_`{|}~ \\t\\n\\r\\x0b\\x0c'"
      ]
     },
     "execution_count": 4,
     "metadata": {},
     "output_type": "execute_result"
    }
   ],
   "source": [
    "characters"
   ]
  },
  {
   "cell_type": "code",
   "execution_count": 5,
   "id": "a54e4ab6-3908-4a5e-b44a-13e3a0440b70",
   "metadata": {},
   "outputs": [],
   "source": [
    "token_index = dict(zip(range(1, len(characters)+1), characters))"
   ]
  },
  {
   "cell_type": "code",
   "execution_count": 22,
   "id": "c49e1ff2-9ba7-4a73-8dc1-cdcd2cfa2853",
   "metadata": {},
   "outputs": [
    {
     "data": {
      "text/plain": [
       "'f'"
      ]
     },
     "execution_count": 22,
     "metadata": {},
     "output_type": "execute_result"
    }
   ],
   "source": [
    "token_index.get(16)"
   ]
  },
  {
   "cell_type": "code",
   "execution_count": 24,
   "id": "9ba31d55-9747-4b67-b35f-65c1d27c4055",
   "metadata": {},
   "outputs": [
    {
     "data": {
      "text/plain": [
       "dict_keys([1, 2, 3, 4, 5, 6, 7, 8, 9, 10, 11, 12, 13, 14, 15, 16, 17, 18, 19, 20, 21, 22, 23, 24, 25, 26, 27, 28, 29, 30, 31, 32, 33, 34, 35, 36, 37, 38, 39, 40, 41, 42, 43, 44, 45, 46, 47, 48, 49, 50, 51, 52, 53, 54, 55, 56, 57, 58, 59, 60, 61, 62, 63, 64, 65, 66, 67, 68, 69, 70, 71, 72, 73, 74, 75, 76, 77, 78, 79, 80, 81, 82, 83, 84, 85, 86, 87, 88, 89, 90, 91, 92, 93, 94, 95, 96, 97, 98, 99, 100])"
      ]
     },
     "execution_count": 24,
     "metadata": {},
     "output_type": "execute_result"
    }
   ],
   "source": [
    "token_index.keys()"
   ]
  },
  {
   "cell_type": "code",
   "execution_count": 23,
   "id": "aa414c5e-4ba8-42ba-861f-9fc5c00a0570",
   "metadata": {},
   "outputs": [],
   "source": [
    "max_length = 50"
   ]
  },
  {
   "cell_type": "code",
   "execution_count": 56,
   "id": "7851f6ff-b84e-488d-9e34-497f0d3e4ceb",
   "metadata": {},
   "outputs": [],
   "source": [
    "result2 = np.zeros(shape=(len(samples), max_length, max(token_index.keys())+1))\n",
    "for i, sample in enumerate(samples):\n",
    "    for j, characters in enumerate(sample):\n",
    "        index = token_index.get(characters)\n",
    "        result2[i, j, index] = 1"
   ]
  },
  {
   "cell_type": "code",
   "execution_count": 58,
   "id": "3609c945-a9d6-4be4-b117-b3432ed0b5b9",
   "metadata": {},
   "outputs": [
    {
     "data": {
      "text/plain": [
       "(2, 50, 101)"
      ]
     },
     "execution_count": 58,
     "metadata": {},
     "output_type": "execute_result"
    }
   ],
   "source": [
    "result2.shape"
   ]
  },
  {
   "cell_type": "markdown",
   "id": "b1634b4d-c70f-4b6a-a9c3-45319a415bd1",
   "metadata": {},
   "source": [
    "### using keras for word-level one-hot encoding"
   ]
  },
  {
   "cell_type": "code",
   "execution_count": 65,
   "id": "1fd84796-8180-466d-9ce7-b9e551178b66",
   "metadata": {},
   "outputs": [],
   "source": [
    "from tensorflow.keras.preprocessing.text import Tokenizer"
   ]
  },
  {
   "cell_type": "code",
   "execution_count": 66,
   "id": "79408ed8-b2ef-4a76-8aa0-3b612d3133cc",
   "metadata": {},
   "outputs": [],
   "source": [
    "samples = ['The cat sat on the mat', 'The dog at my homework']"
   ]
  },
  {
   "cell_type": "code",
   "execution_count": 67,
   "id": "bc7ca78e-6e40-49aa-97d2-5df5239ffdf6",
   "metadata": {},
   "outputs": [],
   "source": [
    "tokenizer = Tokenizer(num_words=1000)"
   ]
  },
  {
   "cell_type": "code",
   "execution_count": 68,
   "id": "939291d1-b279-4b3f-87a7-7931f0fcc48c",
   "metadata": {},
   "outputs": [],
   "source": [
    "tokenizer.fit_on_texts(samples)"
   ]
  },
  {
   "cell_type": "code",
   "execution_count": 70,
   "id": "205cf58c-7bf2-4947-8734-764863417340",
   "metadata": {},
   "outputs": [],
   "source": [
    "sequences = tokenizer.texts_to_sequences(samples)"
   ]
  },
  {
   "cell_type": "code",
   "execution_count": 71,
   "id": "6367e8fc-092b-420d-8720-6438993655fe",
   "metadata": {},
   "outputs": [
    {
     "data": {
      "text/plain": [
       "[[1, 2, 3, 4, 1, 5], [1, 6, 7, 8, 9]]"
      ]
     },
     "execution_count": 71,
     "metadata": {},
     "output_type": "execute_result"
    }
   ],
   "source": [
    "sequences"
   ]
  },
  {
   "cell_type": "code",
   "execution_count": 78,
   "id": "888af3d2-3dcc-42bd-849b-a35c87cc1a9f",
   "metadata": {},
   "outputs": [
    {
     "data": {
      "text/plain": [
       "{1: 'the',\n",
       " 2: 'cat',\n",
       " 3: 'sat',\n",
       " 4: 'on',\n",
       " 5: 'mat',\n",
       " 6: 'dog',\n",
       " 7: 'at',\n",
       " 8: 'my',\n",
       " 9: 'homework'}"
      ]
     },
     "execution_count": 78,
     "metadata": {},
     "output_type": "execute_result"
    }
   ],
   "source": [
    "tokenizer.index_word"
   ]
  },
  {
   "cell_type": "code",
   "execution_count": 79,
   "id": "29651e1b-4d9e-4ed1-b4bd-ad50c1eef950",
   "metadata": {},
   "outputs": [],
   "source": [
    "result = tokenizer.texts_to_matrix(samples, mode='binary')"
   ]
  },
  {
   "cell_type": "code",
   "execution_count": 81,
   "id": "5834aa8e-2857-41a2-b8f8-db79255c4502",
   "metadata": {},
   "outputs": [
    {
     "data": {
      "text/plain": [
       "(2, 1000)"
      ]
     },
     "execution_count": 81,
     "metadata": {},
     "output_type": "execute_result"
    }
   ],
   "source": [
    "result.shape"
   ]
  },
  {
   "cell_type": "code",
   "execution_count": 88,
   "id": "f07a1ca1-66f2-42f2-938c-0188be46aac8",
   "metadata": {},
   "outputs": [],
   "source": [
    "word_index = tokenizer.word_index"
   ]
  },
  {
   "cell_type": "code",
   "execution_count": 90,
   "id": "7ae32fa1-8f95-4484-99cd-eced56160970",
   "metadata": {},
   "outputs": [
    {
     "name": "stdout",
     "output_type": "stream",
     "text": [
      "Found 9 unique tokens.\n"
     ]
    }
   ],
   "source": [
    "print('Found %s unique tokens.' % len(word_index))"
   ]
  },
  {
   "cell_type": "code",
   "execution_count": 89,
   "id": "1899bd95-f974-40be-80a6-c392aece75a0",
   "metadata": {},
   "outputs": [
    {
     "name": "stdout",
     "output_type": "stream",
     "text": [
      "{'the': 1, 'cat': 2, 'sat': 3, 'on': 4, 'mat': 5, 'dog': 6, 'at': 7, 'my': 8, 'homework': 9}\n"
     ]
    }
   ],
   "source": [
    "print(word_index)"
   ]
  },
  {
   "cell_type": "markdown",
   "id": "053e6d2a-346a-40be-827b-d29440788614",
   "metadata": {},
   "source": [
    "### Word-level one-hot encoding with hashing trick (toy example)"
   ]
  },
  {
   "cell_type": "code",
   "execution_count": 91,
   "id": "70e034cd-92eb-46f2-af58-51a82b1e46b3",
   "metadata": {},
   "outputs": [],
   "source": [
    "samples = ['The cat sat on the mat', 'The dog at my homework']"
   ]
  },
  {
   "cell_type": "code",
   "execution_count": 92,
   "id": "74ff8f97-2b48-45f2-b53d-8e9566ab0112",
   "metadata": {},
   "outputs": [],
   "source": [
    "dimensionality = 1000"
   ]
  },
  {
   "cell_type": "code",
   "execution_count": 94,
   "id": "d35a8322-880a-4b47-b672-fffcec108ba3",
   "metadata": {},
   "outputs": [],
   "source": [
    "max_length = 10"
   ]
  },
  {
   "cell_type": "code",
   "execution_count": 97,
   "id": "f02b15bb-4370-4410-bb05-c940bd1ba864",
   "metadata": {},
   "outputs": [],
   "source": [
    "results = np.zeros((len(samples), max_length, dimensionality))\n",
    "for i, sample in enumerate(samples):\n",
    "    for j, word in list(enumerate(sample.split()))[:max_length]:\n",
    "        index = abs(hash(word))% dimensionality\n",
    "        results[i, j, index] = 1"
   ]
  },
  {
   "cell_type": "code",
   "execution_count": 99,
   "id": "58c058eb-0651-421a-b42d-adb8f19b97cb",
   "metadata": {},
   "outputs": [
    {
     "data": {
      "text/plain": [
       "(2, 10, 1000)"
      ]
     },
     "execution_count": 99,
     "metadata": {},
     "output_type": "execute_result"
    }
   ],
   "source": [
    "results.shape"
   ]
  },
  {
   "cell_type": "code",
   "execution_count": null,
   "id": "b2585fa2-377f-4942-b8af-056338150145",
   "metadata": {},
   "outputs": [],
   "source": []
  }
 ],
 "metadata": {
  "kernelspec": {
   "display_name": "Python 3 (ipykernel)",
   "language": "python",
   "name": "python3"
  },
  "language_info": {
   "codemirror_mode": {
    "name": "ipython",
    "version": 3
   },
   "file_extension": ".py",
   "mimetype": "text/x-python",
   "name": "python",
   "nbconvert_exporter": "python",
   "pygments_lexer": "ipython3",
   "version": "3.9.7"
  }
 },
 "nbformat": 4,
 "nbformat_minor": 5
}
